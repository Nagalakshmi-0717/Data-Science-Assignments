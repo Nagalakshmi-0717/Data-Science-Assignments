{
 "cells": [
  {
   "cell_type": "markdown",
   "id": "e617c422",
   "metadata": {},
   "source": [
    "# ASSIGNMENT 2"
   ]
  },
  {
   "cell_type": "markdown",
   "id": "89869747",
   "metadata": {},
   "source": [
    "# Descriptive Statistics and Probability"
   ]
  },
  {
   "cell_type": "markdown",
   "id": "fb8f0dc8",
   "metadata": {},
   "source": [
    "# \tQ1) Look at the data given below. Plot the data, find the outliers and find out  μ,σ,σ^2"
   ]
  },
  {
   "cell_type": "code",
   "execution_count": 1,
   "id": "f8047bc0",
   "metadata": {
    "ExecuteTime": {
     "end_time": "2022-12-29T09:54:36.113132Z",
     "start_time": "2022-12-29T09:54:29.853873Z"
    }
   },
   "outputs": [],
   "source": [
    "import pandas as pd \n",
    "import numpy as np\n",
    "import statistics as stats\n",
    "import matplotlib.pyplot as plt\n",
    "import seaborn as sns"
   ]
  },
  {
   "cell_type": "code",
   "execution_count": 2,
   "id": "2c64e16f",
   "metadata": {
    "ExecuteTime": {
     "end_time": "2022-12-29T09:54:36.130182Z",
     "start_time": "2022-12-29T09:54:36.114410Z"
    }
   },
   "outputs": [],
   "source": [
    "data={'Name_of_the_company':['Allied Signal','Bankers Trust','General Mills','ITT Industries','J.P.Morgan & Co.','Lehman Brothers','Marriott','MCI','Merrill Lynch','Microsoft','Morgan Stanley','Sun Microsystems','Travelers','US Airways','Warner-Lambert'],\n",
    "       'Measure_X':[24.23,25.53,25.41,24.14,29.62,28.25,25.81,24.39,40.26,32.95,91.36,25.99,39.42,26.71,35.00]}                      "
   ]
  },
  {
   "cell_type": "code",
   "execution_count": 3,
   "id": "fa26bcd7",
   "metadata": {
    "ExecuteTime": {
     "end_time": "2022-12-29T09:54:36.155551Z",
     "start_time": "2022-12-29T09:54:36.131330Z"
    }
   },
   "outputs": [],
   "source": [
    "data_df=pd.DataFrame(data)"
   ]
  },
  {
   "cell_type": "code",
   "execution_count": 4,
   "id": "e70bdcc9",
   "metadata": {
    "ExecuteTime": {
     "end_time": "2022-12-29T09:54:36.196402Z",
     "start_time": "2022-12-29T09:54:36.159635Z"
    }
   },
   "outputs": [
    {
     "name": "stdout",
     "output_type": "stream",
     "text": [
      "   Name_of_the_company  Measure_X\n",
      "0        Allied Signal      24.23\n",
      "1        Bankers Trust      25.53\n",
      "2        General Mills      25.41\n",
      "3       ITT Industries      24.14\n",
      "4     J.P.Morgan & Co.      29.62\n",
      "5      Lehman Brothers      28.25\n",
      "6             Marriott      25.81\n",
      "7                  MCI      24.39\n",
      "8        Merrill Lynch      40.26\n",
      "9            Microsoft      32.95\n",
      "10      Morgan Stanley      91.36\n",
      "11    Sun Microsystems      25.99\n",
      "12           Travelers      39.42\n",
      "13          US Airways      26.71\n",
      "14      Warner-Lambert      35.00\n"
     ]
    }
   ],
   "source": [
    "print(data_df)"
   ]
  },
  {
   "cell_type": "code",
   "execution_count": 5,
   "id": "019fff79",
   "metadata": {
    "ExecuteTime": {
     "end_time": "2022-12-29T09:54:37.097061Z",
     "start_time": "2022-12-29T09:54:36.196402Z"
    }
   },
   "outputs": [
    {
     "name": "stdout",
     "output_type": "stream",
     "text": [
      "Measure_X    33.271333\n",
      "dtype: float64\n"
     ]
    }
   ],
   "source": [
    "import warnings\n",
    "warnings.filterwarnings('ignore')\n",
    "print(data_df.mean())"
   ]
  },
  {
   "cell_type": "code",
   "execution_count": 6,
   "id": "8b6122fc",
   "metadata": {
    "ExecuteTime": {
     "end_time": "2022-12-29T09:54:37.138817Z",
     "start_time": "2022-12-29T09:54:37.097061Z"
    }
   },
   "outputs": [
    {
     "name": "stdout",
     "output_type": "stream",
     "text": [
      "Measure_X    16.945401\n",
      "dtype: float64\n"
     ]
    }
   ],
   "source": [
    "print(data_df.std())"
   ]
  },
  {
   "cell_type": "code",
   "execution_count": 7,
   "id": "118dfa95",
   "metadata": {
    "ExecuteTime": {
     "end_time": "2022-12-29T09:54:37.197024Z",
     "start_time": "2022-12-29T09:54:37.139493Z"
    }
   },
   "outputs": [
    {
     "name": "stdout",
     "output_type": "stream",
     "text": [
      "Measure_X    287.146612\n",
      "dtype: float64\n"
     ]
    }
   ],
   "source": [
    "print(data_df.var())"
   ]
  },
  {
   "cell_type": "code",
   "execution_count": 8,
   "id": "443d303c",
   "metadata": {
    "ExecuteTime": {
     "end_time": "2022-12-29T09:54:37.663861Z",
     "start_time": "2022-12-29T09:54:37.197024Z"
    }
   },
   "outputs": [
    {
     "name": "stdout",
     "output_type": "stream",
     "text": [
      "Graphical Representation of Boxplot\n"
     ]
    },
    {
     "data": {
      "text/plain": [
       "Text(0.5, 0, 'DataSet')"
      ]
     },
     "execution_count": 8,
     "metadata": {},
     "output_type": "execute_result"
    },
    {
     "data": {
      "image/png": "[encoded data removed]",
      "text/plain": [
       "<Figure size 432x288 with 1 Axes>"
      ]
     },
     "metadata": {
      "needs_background": "light"
     },
     "output_type": "display_data"
    }
   ],
   "source": [
    "print(\"Graphical Representation of Boxplot\")\n",
    "data_df.plot.box(y =['Measure_X'])\n",
    "plt.xlabel('DataSet')"
   ]
  },
  {
   "cell_type": "markdown",
   "id": "4d46caf2",
   "metadata": {},
   "source": [
    "# Normal distribution, Functions of Random Variables"
   ]
  },
  {
   "cell_type": "markdown",
   "id": "a2aa7186",
   "metadata": {},
   "source": [
    "# Q1"
   ]
  },
  {
   "cell_type": "code",
   "execution_count": 9,
   "id": "f4fc18e0",
   "metadata": {
    "ExecuteTime": {
     "end_time": "2022-12-29T09:54:37.685201Z",
     "start_time": "2022-12-29T09:54:37.666342Z"
    }
   },
   "outputs": [],
   "source": [
    "import numpy as np\n",
    "import pandas as pd\n",
    "from scipy import stats\n",
    "from scipy.stats import norm\n",
    "import seaborn as sn"
   ]
  },
  {
   "cell_type": "code",
   "execution_count": 10,
   "id": "53c69885",
   "metadata": {
    "ExecuteTime": {
     "end_time": "2022-12-29T09:54:37.705024Z",
     "start_time": "2022-12-29T09:54:37.688697Z"
    }
   },
   "outputs": [
    {
     "name": "stdout",
     "output_type": "stream",
     "text": [
      "The probability that the service manager cannot meet his \n",
      "      commitment is 0.26599\n"
     ]
    }
   ],
   "source": [
    "\"\"\"the servicing work will be begin after 10 min of drop off so 45+10 \n",
    "which will now take more than the usual time so mew is 55 minutes \n",
    "and the porbbaility that it will take more than 1 hour to complete\"\"\"\n",
    "mew = 55\n",
    "std = 8\n",
    "q1 = stats.norm.sf(60, loc = mew, scale = std)\n",
    "print(\"\"\"The probability that the service manager cannot meet his \n",
    "      commitment is\"\"\",np.round(q1,5))"
   ]
  },
  {
   "cell_type": "markdown",
   "id": "6a667947",
   "metadata": {},
   "source": [
    "# Q2"
   ]
  },
  {
   "cell_type": "code",
   "execution_count": 19,
   "id": "b0592d49",
   "metadata": {
    "ExecuteTime": {
     "end_time": "2022-12-29T09:56:05.693963Z",
     "start_time": "2022-12-29T09:56:05.668209Z"
    }
   },
   "outputs": [
    {
     "name": "stdout",
     "output_type": "stream",
     "text": [
      "The probability of employee age betweeen 38 and 44 is 34.13 %\n",
      "The probability of employee age more than 44 is 15.87 %\n",
      "Answer: False\n",
      "A training program for employees under the age of 30 at the center would be expected to attract about 36.0 employees\n"
     ]
    }
   ],
   "source": [
    "mean = 38\n",
    "std1 = 6\n",
    "q2_lessthan_38 = stats.norm.cdf(38, loc = mean, scale = std1)\n",
    "\n",
    "\n",
    "q2_less_than_44 = stats.norm.cdf(44, loc = mean,  scale = std1)\n",
    "\n",
    "\n",
    "q2_betweeen_38_and_44 = (q2_less_than_44 - q2_lessthan_38)\n",
    "print('The probability of employee age betweeen 38 and 44 is',np.round(q2_betweeen_38_and_44*100,2),'%') \n",
    "\n",
    "q2_morethan_44 = 1-stats.norm.cdf(44, loc = mean, scale = std1)\n",
    "print('The probability of employee age more than 44 is',np.round(q2_morethan_44*100,2),'%')\n",
    "\n",
    "true_or_false = (q2_morethan_44 > q2_betweeen_38_and_44)\n",
    "print('Answer:',true_or_false)\n",
    "\n",
    "q2b = stats.norm.cdf(30, loc = mean, scale = std1)\n",
    "print(\"\"\"A training program for employees under the age of 30 at the center would be expected to attract about\"\"\"\n",
    "      ,np.round((q2b*400),0),'employees')"
   ]
  },
  {
   "cell_type": "markdown",
   "id": "cb60031f",
   "metadata": {},
   "source": [
    "#  Q5"
   ]
  },
  {
   "cell_type": "markdown",
   "id": "03d0f1ce",
   "metadata": {},
   "source": [
    "# 5 (A)"
   ]
  },
  {
   "cell_type": "code",
   "execution_count": 21,
   "id": "248ef58d",
   "metadata": {
    "ExecuteTime": {
     "end_time": "2022-12-29T09:56:15.032251Z",
     "start_time": "2022-12-29T09:56:15.018357Z"
    }
   },
   "outputs": [
    {
     "name": "stdout",
     "output_type": "stream",
     "text": [
      "Mean profit is Rs.  540  milliions\n"
     ]
    }
   ],
   "source": [
    "mean=5+7\n",
    "print(\"Mean profit is Rs. \",mean*45, \" milliions\")"
   ]
  },
  {
   "cell_type": "code",
   "execution_count": 22,
   "id": "3d7bd1b5",
   "metadata": {
    "ExecuteTime": {
     "end_time": "2022-12-29T09:56:16.767952Z",
     "start_time": "2022-12-29T09:56:16.751360Z"
    }
   },
   "outputs": [
    {
     "name": "stdout",
     "output_type": "stream",
     "text": [
      "Standard Deviation is Rs 225.0 Million\n"
     ]
    }
   ],
   "source": [
    "#Variance of profits from two divisions sd^2=SD1^2 +SD2^2\n",
    "SD = np.sqrt((9)+(16))\n",
    "print('Standard Deviation is Rs', SD*45, 'Million')"
   ]
  },
  {
   "cell_type": "code",
   "execution_count": 23,
   "id": "4af7a218",
   "metadata": {
    "ExecuteTime": {
     "end_time": "2022-12-29T09:56:17.512293Z",
     "start_time": "2022-12-29T09:56:17.475769Z"
    }
   },
   "outputs": [
    {
     "name": "stdout",
     "output_type": "stream",
     "text": [
      "Range is Rs (99.00810347848784, 980.9918965215122) in Millions\n"
     ]
    }
   ],
   "source": [
    "# Specify a Rupee range (centered on the mean) such that it contains 95% probability for the annual profit of the company.\n",
    "print('Range is Rs',(stats.norm.interval(0.95,540,225.0)),'in Millions')"
   ]
  },
  {
   "cell_type": "markdown",
   "id": "78847e68",
   "metadata": {},
   "source": [
    "# 5 (B)"
   ]
  },
  {
   "cell_type": "code",
   "execution_count": 24,
   "id": "1484e9d8",
   "metadata": {
    "ExecuteTime": {
     "end_time": "2022-12-29T09:56:25.318535Z",
     "start_time": "2022-12-29T09:56:25.290388Z"
    }
   },
   "outputs": [
    {
     "name": "stdout",
     "output_type": "stream",
     "text": [
      "5th percentile of profit (in Million Rupees) is 170.0\n"
     ]
    }
   ],
   "source": [
    "#Specify the 5th percentile of profit (in Rupees) for the company\n",
    "# To compute 5th Percentile, we use the formula X=μ + Zσ; wherein from z table, 5 percentile = -1.645\n",
    "X= 540+(-1.645)*(225)\n",
    "print('5th percentile of profit (in Million Rupees) is',np.round(X,))"
   ]
  },
  {
   "cell_type": "markdown",
   "id": "0ea692bb",
   "metadata": {},
   "source": [
    "# 5 (C)"
   ]
  },
  {
   "cell_type": "code",
   "execution_count": 25,
   "id": "8c99482b",
   "metadata": {
    "ExecuteTime": {
     "end_time": "2022-12-29T09:56:28.444355Z",
     "start_time": "2022-12-29T09:56:28.419663Z"
    }
   },
   "outputs": [
    {
     "data": {
      "text/plain": [
       "0.0477903522728147"
      ]
     },
     "execution_count": 25,
     "metadata": {},
     "output_type": "execute_result"
    }
   ],
   "source": [
    "# Probability of Division 1 making a loss P(X<0)\n",
    "stats.norm.cdf(0,5,3)"
   ]
  },
  {
   "cell_type": "code",
   "execution_count": 26,
   "id": "777e1d9d",
   "metadata": {
    "ExecuteTime": {
     "end_time": "2022-12-29T09:56:29.274272Z",
     "start_time": "2022-12-29T09:56:29.247026Z"
    }
   },
   "outputs": [
    {
     "data": {
      "text/plain": [
       "0.040059156863817086"
      ]
     },
     "execution_count": 26,
     "metadata": {},
     "output_type": "execute_result"
    }
   ],
   "source": [
    "# Probability of Division 2 making a loss P(X<0)\n",
    "stats.norm.cdf(0,7,4)"
   ]
  },
  {
   "cell_type": "code",
   "execution_count": null,
   "id": "4da5a986",
   "metadata": {},
   "outputs": [],
   "source": []
  }
 ],
 "metadata": {
  "kernelspec": {
   "display_name": "Python 3 (ipykernel)",
   "language": "python",
   "name": "python3"
  },
  "language_info": {
   "codemirror_mode": {
    "name": "ipython",
    "version": 3
   },
   "file_extension": ".py",
   "mimetype": "text/x-python",
   "name": "python",
   "nbconvert_exporter": "python",
   "pygments_lexer": "ipython3",
   "version": "3.9.12"
  }
 },
 "nbformat": 4,
 "nbformat_minor": 5
}
