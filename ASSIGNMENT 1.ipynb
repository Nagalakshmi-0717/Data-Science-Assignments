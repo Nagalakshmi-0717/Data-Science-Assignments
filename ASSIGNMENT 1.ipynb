{
 "cells": [
  {
   "cell_type": "markdown",
   "id": "9cbee7b7",
   "metadata": {},
   "source": [
    "# ASSIGNMENT 1"
   ]
  },
  {
   "cell_type": "markdown",
   "id": "63eabf97",
   "metadata": {},
   "source": [
    "# Q7"
   ]
  },
  {
   "cell_type": "code",
   "execution_count": 1,
   "id": "fca1dc59",
   "metadata": {
    "ExecuteTime": {
     "end_time": "2022-11-12T05:24:16.691446Z",
     "start_time": "2022-11-12T05:24:11.600800Z"
    }
   },
   "outputs": [
    {
     "name": "stdout",
     "output_type": "stream",
     "text": [
      "Libraries imported!!\n"
     ]
    }
   ],
   "source": [
    "import numpy as np\n",
    "import pandas as pd\n",
    "import matplotlib.pyplot as plt\n",
    "import seaborn as sns\n",
    "from scipy import stats\n",
    "print(\"Libraries imported!!\")"
   ]
  },
  {
   "cell_type": "code",
   "execution_count": 2,
   "id": "2dce8a44",
   "metadata": {
    "ExecuteTime": {
     "end_time": "2022-11-12T05:25:42.963211Z",
     "start_time": "2022-11-12T05:25:42.900715Z"
    }
   },
   "outputs": [
    {
     "data": {
      "text/html": [
       "<div>\n",
       "<style scoped>\n",
       "    .dataframe tbody tr th:only-of-type {\n",
       "        vertical-align: middle;\n",
       "    }\n",
       "\n",
       "    .dataframe tbody tr th {\n",
       "        vertical-align: top;\n",
       "    }\n",
       "\n",
       "    .dataframe thead th {\n",
       "        text-align: right;\n",
       "    }\n",
       "</style>\n",
       "<table border=\"1\" class=\"dataframe\">\n",
       "  <thead>\n",
       "    <tr style=\"text-align: right;\">\n",
       "      <th></th>\n",
       "      <th>Unnamed: 0</th>\n",
       "      <th>Points</th>\n",
       "      <th>Score</th>\n",
       "      <th>Weigh</th>\n",
       "    </tr>\n",
       "  </thead>\n",
       "  <tbody>\n",
       "    <tr>\n",
       "      <th>0</th>\n",
       "      <td>Mazda RX4</td>\n",
       "      <td>3.90</td>\n",
       "      <td>2.620</td>\n",
       "      <td>16.46</td>\n",
       "    </tr>\n",
       "    <tr>\n",
       "      <th>1</th>\n",
       "      <td>Mazda RX4 Wag</td>\n",
       "      <td>3.90</td>\n",
       "      <td>2.875</td>\n",
       "      <td>17.02</td>\n",
       "    </tr>\n",
       "    <tr>\n",
       "      <th>2</th>\n",
       "      <td>Datsun 710</td>\n",
       "      <td>3.85</td>\n",
       "      <td>2.320</td>\n",
       "      <td>18.61</td>\n",
       "    </tr>\n",
       "    <tr>\n",
       "      <th>3</th>\n",
       "      <td>Hornet 4 Drive</td>\n",
       "      <td>3.08</td>\n",
       "      <td>3.215</td>\n",
       "      <td>19.44</td>\n",
       "    </tr>\n",
       "    <tr>\n",
       "      <th>4</th>\n",
       "      <td>Hornet Sportabout</td>\n",
       "      <td>3.15</td>\n",
       "      <td>3.440</td>\n",
       "      <td>17.02</td>\n",
       "    </tr>\n",
       "  </tbody>\n",
       "</table>\n",
       "</div>"
      ],
      "text/plain": [
       "          Unnamed: 0  Points  Score  Weigh\n",
       "0          Mazda RX4    3.90  2.620  16.46\n",
       "1      Mazda RX4 Wag    3.90  2.875  17.02\n",
       "2         Datsun 710    3.85  2.320  18.61\n",
       "3     Hornet 4 Drive    3.08  3.215  19.44\n",
       "4  Hornet Sportabout    3.15  3.440  17.02"
      ]
     },
     "execution_count": 2,
     "metadata": {},
     "output_type": "execute_result"
    }
   ],
   "source": [
    "df1=pd.read_csv(\"Q7.csv\")\n",
    "df1.head()"
   ]
  },
  {
   "cell_type": "code",
   "execution_count": 3,
   "id": "a33416fa",
   "metadata": {
    "ExecuteTime": {
     "end_time": "2022-11-12T05:26:19.897034Z",
     "start_time": "2022-11-12T05:26:19.849384Z"
    }
   },
   "outputs": [
    {
     "data": {
      "text/html": [
       "<div>\n",
       "<style scoped>\n",
       "    .dataframe tbody tr th:only-of-type {\n",
       "        vertical-align: middle;\n",
       "    }\n",
       "\n",
       "    .dataframe tbody tr th {\n",
       "        vertical-align: top;\n",
       "    }\n",
       "\n",
       "    .dataframe thead th {\n",
       "        text-align: right;\n",
       "    }\n",
       "</style>\n",
       "<table border=\"1\" class=\"dataframe\">\n",
       "  <thead>\n",
       "    <tr style=\"text-align: right;\">\n",
       "      <th></th>\n",
       "      <th>Points</th>\n",
       "      <th>Score</th>\n",
       "      <th>Weigh</th>\n",
       "    </tr>\n",
       "  </thead>\n",
       "  <tbody>\n",
       "    <tr>\n",
       "      <th>count</th>\n",
       "      <td>32.000000</td>\n",
       "      <td>32.000000</td>\n",
       "      <td>32.000000</td>\n",
       "    </tr>\n",
       "    <tr>\n",
       "      <th>mean</th>\n",
       "      <td>3.596563</td>\n",
       "      <td>3.217250</td>\n",
       "      <td>17.848750</td>\n",
       "    </tr>\n",
       "    <tr>\n",
       "      <th>std</th>\n",
       "      <td>0.534679</td>\n",
       "      <td>0.978457</td>\n",
       "      <td>1.786943</td>\n",
       "    </tr>\n",
       "    <tr>\n",
       "      <th>min</th>\n",
       "      <td>2.760000</td>\n",
       "      <td>1.513000</td>\n",
       "      <td>14.500000</td>\n",
       "    </tr>\n",
       "    <tr>\n",
       "      <th>25%</th>\n",
       "      <td>3.080000</td>\n",
       "      <td>2.581250</td>\n",
       "      <td>16.892500</td>\n",
       "    </tr>\n",
       "    <tr>\n",
       "      <th>50%</th>\n",
       "      <td>3.695000</td>\n",
       "      <td>3.325000</td>\n",
       "      <td>17.710000</td>\n",
       "    </tr>\n",
       "    <tr>\n",
       "      <th>75%</th>\n",
       "      <td>3.920000</td>\n",
       "      <td>3.610000</td>\n",
       "      <td>18.900000</td>\n",
       "    </tr>\n",
       "    <tr>\n",
       "      <th>max</th>\n",
       "      <td>4.930000</td>\n",
       "      <td>5.424000</td>\n",
       "      <td>22.900000</td>\n",
       "    </tr>\n",
       "  </tbody>\n",
       "</table>\n",
       "</div>"
      ],
      "text/plain": [
       "          Points      Score      Weigh\n",
       "count  32.000000  32.000000  32.000000\n",
       "mean    3.596563   3.217250  17.848750\n",
       "std     0.534679   0.978457   1.786943\n",
       "min     2.760000   1.513000  14.500000\n",
       "25%     3.080000   2.581250  16.892500\n",
       "50%     3.695000   3.325000  17.710000\n",
       "75%     3.920000   3.610000  18.900000\n",
       "max     4.930000   5.424000  22.900000"
      ]
     },
     "execution_count": 3,
     "metadata": {},
     "output_type": "execute_result"
    }
   ],
   "source": [
    "df1.describe()"
   ]
  },
  {
   "cell_type": "code",
   "execution_count": 9,
   "id": "76c3e80b",
   "metadata": {
    "ExecuteTime": {
     "end_time": "2022-11-12T05:29:44.880992Z",
     "start_time": "2022-11-12T05:29:44.748201Z"
    }
   },
   "outputs": [
    {
     "name": "stdout",
     "output_type": "stream",
     "text": [
      "Mean:\n",
      "Points     3.596563\n",
      "Score      3.217250\n",
      "Weigh     17.848750\n",
      "dtype: float64\n",
      "Median:\n",
      "Points     3.695\n",
      "Score      3.325\n",
      "Weigh     17.710\n",
      "dtype: float64\n",
      "Standard deviation:\n",
      "Points    0.534679\n",
      "Score     0.978457\n",
      "Weigh     1.786943\n",
      "dtype: float64\n",
      "Variance:\n",
      "Points    0.285881\n",
      "Score     0.957379\n",
      "Weigh     3.193166\n",
      "dtype: float64\n"
     ]
    }
   ],
   "source": [
    "import warnings\n",
    "warnings.filterwarnings(\"ignore\")\n",
    "## Finding mean.median and standard deviation\n",
    "print(\"Mean:\")\n",
    "print(df1.mean())\n",
    "print(\"Median:\")\n",
    "print(df1.median())\n",
    "print(\"Standard deviation:\")\n",
    "print(df1.std())\n",
    "print(\"Variance:\")\n",
    "print(df1.var())"
   ]
  },
  {
   "cell_type": "code",
   "execution_count": 10,
   "id": "7dc353f7",
   "metadata": {
    "ExecuteTime": {
     "end_time": "2022-11-12T05:30:49.924842Z",
     "start_time": "2022-11-12T05:30:49.899258Z"
    }
   },
   "outputs": [
    {
     "name": "stdout",
     "output_type": "stream",
     "text": [
      "The mode of Points column: ModeResult(mode=array([3.07]), count=array([3]))\n",
      "The mode of Score column: ModeResult(mode=array([3.44]), count=array([3]))\n",
      "The mode of Weigh column: ModeResult(mode=array([17.02]), count=array([2]))\n"
     ]
    }
   ],
   "source": [
    "#Finding the mode \n",
    "mode_points=stats.mode(df1['Points'])\n",
    "mode_score=stats.mode(df1['Score'])\n",
    "mode_weigh=stats.mode(df1['Weigh'])\n",
    "print(\"The mode of Points column:\",mode_points)\n",
    "print(\"The mode of Score column:\",mode_score)\n",
    "print(\"The mode of Weigh column:\",mode_weigh)"
   ]
  },
  {
   "cell_type": "code",
   "execution_count": 11,
   "id": "3dbbdff4",
   "metadata": {
    "ExecuteTime": {
     "end_time": "2022-11-12T05:33:41.298396Z",
     "start_time": "2022-11-12T05:33:41.279874Z"
    }
   },
   "outputs": [
    {
     "name": "stdout",
     "output_type": "stream",
     "text": [
      "Range of Points column: 2.17\n",
      "Range of Score column: 3.91\n",
      "Range of Weigh column: 8.4\n"
     ]
    }
   ],
   "source": [
    "#FINDING THE RANGE\n",
    "range_points=df1['Points'].max()-df1['Points'].min()\n",
    "range_score=df1['Score'].max()-df1['Score'].min()\n",
    "range_weigh=df1['Weigh'].max()-df1['Weigh'].min()\n",
    "print(\"Range of Points column:\",round(range_points,2))\n",
    "print(\"Range of Score column:\",round(range_score,2))\n",
    "print(\"Range of Weigh column:\",round(range_weigh,2))"
   ]
  },
  {
   "cell_type": "markdown",
   "id": "42941310",
   "metadata": {},
   "source": [
    "# Q9(a)"
   ]
  },
  {
   "cell_type": "code",
   "execution_count": 12,
   "id": "9242cdeb",
   "metadata": {
    "ExecuteTime": {
     "end_time": "2022-11-12T05:41:44.690159Z",
     "start_time": "2022-11-12T05:41:44.649005Z"
    }
   },
   "outputs": [
    {
     "data": {
      "text/html": [
       "<div>\n",
       "<style scoped>\n",
       "    .dataframe tbody tr th:only-of-type {\n",
       "        vertical-align: middle;\n",
       "    }\n",
       "\n",
       "    .dataframe tbody tr th {\n",
       "        vertical-align: top;\n",
       "    }\n",
       "\n",
       "    .dataframe thead th {\n",
       "        text-align: right;\n",
       "    }\n",
       "</style>\n",
       "<table border=\"1\" class=\"dataframe\">\n",
       "  <thead>\n",
       "    <tr style=\"text-align: right;\">\n",
       "      <th></th>\n",
       "      <th>Index</th>\n",
       "      <th>speed</th>\n",
       "      <th>dist</th>\n",
       "    </tr>\n",
       "  </thead>\n",
       "  <tbody>\n",
       "    <tr>\n",
       "      <th>0</th>\n",
       "      <td>1</td>\n",
       "      <td>4</td>\n",
       "      <td>2</td>\n",
       "    </tr>\n",
       "    <tr>\n",
       "      <th>1</th>\n",
       "      <td>2</td>\n",
       "      <td>4</td>\n",
       "      <td>10</td>\n",
       "    </tr>\n",
       "    <tr>\n",
       "      <th>2</th>\n",
       "      <td>3</td>\n",
       "      <td>7</td>\n",
       "      <td>4</td>\n",
       "    </tr>\n",
       "    <tr>\n",
       "      <th>3</th>\n",
       "      <td>4</td>\n",
       "      <td>7</td>\n",
       "      <td>22</td>\n",
       "    </tr>\n",
       "    <tr>\n",
       "      <th>4</th>\n",
       "      <td>5</td>\n",
       "      <td>8</td>\n",
       "      <td>16</td>\n",
       "    </tr>\n",
       "  </tbody>\n",
       "</table>\n",
       "</div>"
      ],
      "text/plain": [
       "   Index  speed  dist\n",
       "0      1      4     2\n",
       "1      2      4    10\n",
       "2      3      7     4\n",
       "3      4      7    22\n",
       "4      5      8    16"
      ]
     },
     "execution_count": 12,
     "metadata": {},
     "output_type": "execute_result"
    }
   ],
   "source": [
    "df=pd.read_csv(\"Q9_a.csv\")\n",
    "df.head()"
   ]
  },
  {
   "cell_type": "code",
   "execution_count": 13,
   "id": "33532edf",
   "metadata": {
    "ExecuteTime": {
     "end_time": "2022-11-12T05:42:47.216563Z",
     "start_time": "2022-11-12T05:42:47.200257Z"
    }
   },
   "outputs": [
    {
     "name": "stdout",
     "output_type": "stream",
     "text": [
      "The skewness of speed distribution is: -0.11750986144663393\n",
      "The kurtosis of speed distribution is: -0.5089944204057617\n",
      "The skewness of distance distribution is: 0.8068949601674215\n",
      "The kurtosis of distance distribution is: 0.4050525816795765\n"
     ]
    }
   ],
   "source": [
    "# CALCULATING KURTOSIS AND SKEWNESS FOR SPEED AND DISTANCE\n",
    "speed_sk=df['speed'].skew()\n",
    "speed_kt=df['speed'].kurtosis()\n",
    "dist_sk=df['dist'].skew()\n",
    "dist_kt=df['dist'].kurtosis()\n",
    "\n",
    "print(\"The skewness of speed distribution is:\",speed_sk)\n",
    "print(\"The kurtosis of speed distribution is:\",speed_kt)\n",
    "print(\"The skewness of distance distribution is:\",dist_sk)\n",
    "print(\"The kurtosis of distance distribution is:\",dist_kt)"
   ]
  },
  {
   "cell_type": "markdown",
   "id": "2649602e",
   "metadata": {},
   "source": [
    "# Q9(b)"
   ]
  },
  {
   "cell_type": "code",
   "execution_count": 14,
   "id": "afe4ca7a",
   "metadata": {
    "ExecuteTime": {
     "end_time": "2022-11-12T05:44:21.460998Z",
     "start_time": "2022-11-12T05:44:21.421838Z"
    }
   },
   "outputs": [
    {
     "data": {
      "text/html": [
       "<div>\n",
       "<style scoped>\n",
       "    .dataframe tbody tr th:only-of-type {\n",
       "        vertical-align: middle;\n",
       "    }\n",
       "\n",
       "    .dataframe tbody tr th {\n",
       "        vertical-align: top;\n",
       "    }\n",
       "\n",
       "    .dataframe thead th {\n",
       "        text-align: right;\n",
       "    }\n",
       "</style>\n",
       "<table border=\"1\" class=\"dataframe\">\n",
       "  <thead>\n",
       "    <tr style=\"text-align: right;\">\n",
       "      <th></th>\n",
       "      <th>Unnamed: 0</th>\n",
       "      <th>SP</th>\n",
       "      <th>WT</th>\n",
       "    </tr>\n",
       "  </thead>\n",
       "  <tbody>\n",
       "    <tr>\n",
       "      <th>0</th>\n",
       "      <td>1</td>\n",
       "      <td>104.185353</td>\n",
       "      <td>28.762059</td>\n",
       "    </tr>\n",
       "    <tr>\n",
       "      <th>1</th>\n",
       "      <td>2</td>\n",
       "      <td>105.461264</td>\n",
       "      <td>30.466833</td>\n",
       "    </tr>\n",
       "    <tr>\n",
       "      <th>2</th>\n",
       "      <td>3</td>\n",
       "      <td>105.461264</td>\n",
       "      <td>30.193597</td>\n",
       "    </tr>\n",
       "    <tr>\n",
       "      <th>3</th>\n",
       "      <td>4</td>\n",
       "      <td>113.461264</td>\n",
       "      <td>30.632114</td>\n",
       "    </tr>\n",
       "    <tr>\n",
       "      <th>4</th>\n",
       "      <td>5</td>\n",
       "      <td>104.461264</td>\n",
       "      <td>29.889149</td>\n",
       "    </tr>\n",
       "  </tbody>\n",
       "</table>\n",
       "</div>"
      ],
      "text/plain": [
       "   Unnamed: 0          SP         WT\n",
       "0           1  104.185353  28.762059\n",
       "1           2  105.461264  30.466833\n",
       "2           3  105.461264  30.193597\n",
       "3           4  113.461264  30.632114\n",
       "4           5  104.461264  29.889149"
      ]
     },
     "execution_count": 14,
     "metadata": {},
     "output_type": "execute_result"
    }
   ],
   "source": [
    "df=pd.read_csv(\"Q9_b.csv\")\n",
    "df.head()"
   ]
  },
  {
   "cell_type": "code",
   "execution_count": 15,
   "id": "de170ba2",
   "metadata": {
    "ExecuteTime": {
     "end_time": "2022-11-12T05:45:03.733779Z",
     "start_time": "2022-11-12T05:45:03.713113Z"
    }
   },
   "outputs": [
    {
     "name": "stdout",
     "output_type": "stream",
     "text": [
      "The skewness of SP distribution is 1.6114501961773586 and WT distribution is -0.6147533255357768\n",
      "The kurtosis of SP distribution is 2.9773289437871835 and WT distribution is 0.9502914910300326\n"
     ]
    }
   ],
   "source": [
    "# CALCULATING KURTOSIS AND SKEWNESS FOR SP and WT\n",
    "SP_sk=df['SP'].skew()\n",
    "SP_kt=df['SP'].kurtosis()\n",
    "WT_sk=df['WT'].skew()\n",
    "WT_kt=df['WT'].kurtosis()\n",
    "print(\"The skewness of SP distribution is {} and WT distribution is {}\".format(SP_sk,WT_sk))\n",
    "print(\"The kurtosis of SP distribution is {} and WT distribution is {}\".format(SP_kt,WT_kt))"
   ]
  },
  {
   "cell_type": "markdown",
   "id": "f0ec996e",
   "metadata": {},
   "source": [
    "# Q11"
   ]
  },
  {
   "cell_type": "code",
   "execution_count": 2,
   "id": "68f37d09",
   "metadata": {
    "ExecuteTime": {
     "end_time": "2022-11-10T14:40:50.980948Z",
     "start_time": "2022-11-10T14:40:50.611490Z"
    }
   },
   "outputs": [
    {
     "data": {
      "text/plain": [
       "0.6708203932499369"
      ]
     },
     "execution_count": 2,
     "metadata": {},
     "output_type": "execute_result"
    }
   ],
   "source": [
    "import numpy as np\n",
    "standard_error=30/np.sqrt(2000)\n",
    "standard_error"
   ]
  },
  {
   "cell_type": "code",
   "execution_count": 5,
   "id": "8aa9bda3",
   "metadata": {
    "ExecuteTime": {
     "end_time": "2022-11-10T14:49:17.853498Z",
     "start_time": "2022-11-10T14:49:17.837970Z"
    }
   },
   "outputs": [
    {
     "name": "stdout",
     "output_type": "stream",
     "text": [
      "we are 94% confident that average age of an adult male is between: (198.73798748893051, 201.26201251106949)\n"
     ]
    }
   ],
   "source": [
    "from scipy import stats\n",
    "## 94% CI\n",
    "age_94 = stats.norm.interval(0.94,loc =200, scale =0.671)\n",
    "print(\"we are 94% confident that average age of an adult male is between:\",age_94)"
   ]
  },
  {
   "cell_type": "code",
   "execution_count": 6,
   "id": "1ce1803e",
   "metadata": {
    "ExecuteTime": {
     "end_time": "2022-11-10T14:49:52.755502Z",
     "start_time": "2022-11-10T14:49:52.736876Z"
    }
   },
   "outputs": [
    {
     "name": "stdout",
     "output_type": "stream",
     "text": [
      "We are 96% confident that average age of an adult male is between: (198.62193448096605, 201.37806551903395)\n"
     ]
    }
   ],
   "source": [
    "## 96% CI\n",
    "age_96 = stats.norm.interval(0.96,loc =200,scale =0.671)\n",
    "print(\"We are 96% confident that average age of an adult male is between:\",age_96)"
   ]
  },
  {
   "cell_type": "code",
   "execution_count": 7,
   "id": "66ed2e0a",
   "metadata": {
    "ExecuteTime": {
     "end_time": "2022-11-10T14:50:19.543423Z",
     "start_time": "2022-11-10T14:50:19.522473Z"
    }
   },
   "outputs": [
    {
     "name": "stdout",
     "output_type": "stream",
     "text": [
      "We are 98% confident that average age of an adult male is between: (198.4390205765186, 201.5609794234814)\n"
     ]
    }
   ],
   "source": [
    "## 98% C.I\n",
    "age_98 = stats.norm.interval(0.98,loc =200,scale =0.671)\n",
    "print(\"We are 98% confident that average age of an adult male is between:\",age_98)"
   ]
  },
  {
   "cell_type": "markdown",
   "id": "d770b82b",
   "metadata": {},
   "source": [
    "# Q12"
   ]
  },
  {
   "cell_type": "code",
   "execution_count": 1,
   "id": "83a93feb",
   "metadata": {
    "ExecuteTime": {
     "end_time": "2022-11-12T05:05:08.149215Z",
     "start_time": "2022-11-12T05:05:06.159011Z"
    }
   },
   "outputs": [
    {
     "name": "stdout",
     "output_type": "stream",
     "text": [
      "mean is: 41.0\n",
      "median is: 40.5\n",
      "standard deviation is: 4.910306620885412\n",
      "variance is: 24.11111111111111\n",
      "mode is: ModeResult(mode=array([41]), count=array([4]))\n"
     ]
    }
   ],
   "source": [
    "import numpy as np\n",
    "from scipy import stats\n",
    "## a\n",
    "s1=np.array([34,36,36,38,38,39,39,40,40,41,41,41,41,42,42,45,49,56])\n",
    "avg=s1.mean()\n",
    "med=np.median(s1)\n",
    "stan_dev=np.std(s1)\n",
    "mode_a=stats.mode(s1)\n",
    "print(\"mean is:\",avg)\n",
    "print(\"median is:\",med)\n",
    "print(\"standard deviation is:\",stan_dev)\n",
    "print(\"variance is:\",(stan_dev**2))\n",
    "print(\"mode is:\",mode_a)"
   ]
  },
  {
   "cell_type": "markdown",
   "id": "23440cd2",
   "metadata": {},
   "source": [
    "# Q20"
   ]
  },
  {
   "cell_type": "code",
   "execution_count": 2,
   "id": "e5d1d6f2",
   "metadata": {
    "ExecuteTime": {
     "end_time": "2022-11-12T05:06:27.104491Z",
     "start_time": "2022-11-12T05:06:25.611116Z"
    }
   },
   "outputs": [],
   "source": [
    "import pandas as pd \n",
    "df = pd.read_csv('cars.csv')"
   ]
  },
  {
   "cell_type": "code",
   "execution_count": 3,
   "id": "6554c697",
   "metadata": {
    "ExecuteTime": {
     "end_time": "2022-11-12T05:06:41.201786Z",
     "start_time": "2022-11-12T05:06:41.127877Z"
    }
   },
   "outputs": [
    {
     "data": {
      "text/html": [
       "<div>\n",
       "<style scoped>\n",
       "    .dataframe tbody tr th:only-of-type {\n",
       "        vertical-align: middle;\n",
       "    }\n",
       "\n",
       "    .dataframe tbody tr th {\n",
       "        vertical-align: top;\n",
       "    }\n",
       "\n",
       "    .dataframe thead th {\n",
       "        text-align: right;\n",
       "    }\n",
       "</style>\n",
       "<table border=\"1\" class=\"dataframe\">\n",
       "  <thead>\n",
       "    <tr style=\"text-align: right;\">\n",
       "      <th></th>\n",
       "      <th>HP</th>\n",
       "      <th>MPG</th>\n",
       "      <th>VOL</th>\n",
       "      <th>SP</th>\n",
       "      <th>WT</th>\n",
       "    </tr>\n",
       "  </thead>\n",
       "  <tbody>\n",
       "    <tr>\n",
       "      <th>0</th>\n",
       "      <td>49</td>\n",
       "      <td>53.700681</td>\n",
       "      <td>89</td>\n",
       "      <td>104.185353</td>\n",
       "      <td>28.762059</td>\n",
       "    </tr>\n",
       "    <tr>\n",
       "      <th>1</th>\n",
       "      <td>55</td>\n",
       "      <td>50.013401</td>\n",
       "      <td>92</td>\n",
       "      <td>105.461264</td>\n",
       "      <td>30.466833</td>\n",
       "    </tr>\n",
       "    <tr>\n",
       "      <th>2</th>\n",
       "      <td>55</td>\n",
       "      <td>50.013401</td>\n",
       "      <td>92</td>\n",
       "      <td>105.461264</td>\n",
       "      <td>30.193597</td>\n",
       "    </tr>\n",
       "    <tr>\n",
       "      <th>3</th>\n",
       "      <td>70</td>\n",
       "      <td>45.696322</td>\n",
       "      <td>92</td>\n",
       "      <td>113.461264</td>\n",
       "      <td>30.632114</td>\n",
       "    </tr>\n",
       "    <tr>\n",
       "      <th>4</th>\n",
       "      <td>53</td>\n",
       "      <td>50.504232</td>\n",
       "      <td>92</td>\n",
       "      <td>104.461264</td>\n",
       "      <td>29.889149</td>\n",
       "    </tr>\n",
       "  </tbody>\n",
       "</table>\n",
       "</div>"
      ],
      "text/plain": [
       "   HP        MPG  VOL          SP         WT\n",
       "0  49  53.700681   89  104.185353  28.762059\n",
       "1  55  50.013401   92  105.461264  30.466833\n",
       "2  55  50.013401   92  105.461264  30.193597\n",
       "3  70  45.696322   92  113.461264  30.632114\n",
       "4  53  50.504232   92  104.461264  29.889149"
      ]
     },
     "execution_count": 3,
     "metadata": {},
     "output_type": "execute_result"
    }
   ],
   "source": [
    "df.head()"
   ]
  },
  {
   "cell_type": "code",
   "execution_count": 4,
   "id": "a2af9ccd",
   "metadata": {
    "ExecuteTime": {
     "end_time": "2022-11-12T05:06:55.680487Z",
     "start_time": "2022-11-12T05:06:55.641891Z"
    }
   },
   "outputs": [
    {
     "data": {
      "text/html": [
       "<div>\n",
       "<style scoped>\n",
       "    .dataframe tbody tr th:only-of-type {\n",
       "        vertical-align: middle;\n",
       "    }\n",
       "\n",
       "    .dataframe tbody tr th {\n",
       "        vertical-align: top;\n",
       "    }\n",
       "\n",
       "    .dataframe thead th {\n",
       "        text-align: right;\n",
       "    }\n",
       "</style>\n",
       "<table border=\"1\" class=\"dataframe\">\n",
       "  <thead>\n",
       "    <tr style=\"text-align: right;\">\n",
       "      <th></th>\n",
       "      <th>HP</th>\n",
       "      <th>MPG</th>\n",
       "      <th>VOL</th>\n",
       "      <th>SP</th>\n",
       "      <th>WT</th>\n",
       "    </tr>\n",
       "  </thead>\n",
       "  <tbody>\n",
       "    <tr>\n",
       "      <th>76</th>\n",
       "      <td>322</td>\n",
       "      <td>36.900000</td>\n",
       "      <td>50</td>\n",
       "      <td>169.598513</td>\n",
       "      <td>16.132947</td>\n",
       "    </tr>\n",
       "    <tr>\n",
       "      <th>77</th>\n",
       "      <td>238</td>\n",
       "      <td>19.197888</td>\n",
       "      <td>115</td>\n",
       "      <td>150.576579</td>\n",
       "      <td>37.923113</td>\n",
       "    </tr>\n",
       "    <tr>\n",
       "      <th>78</th>\n",
       "      <td>263</td>\n",
       "      <td>34.000000</td>\n",
       "      <td>50</td>\n",
       "      <td>151.598513</td>\n",
       "      <td>15.769625</td>\n",
       "    </tr>\n",
       "    <tr>\n",
       "      <th>79</th>\n",
       "      <td>295</td>\n",
       "      <td>19.833733</td>\n",
       "      <td>119</td>\n",
       "      <td>167.944460</td>\n",
       "      <td>39.423099</td>\n",
       "    </tr>\n",
       "    <tr>\n",
       "      <th>80</th>\n",
       "      <td>236</td>\n",
       "      <td>12.101263</td>\n",
       "      <td>107</td>\n",
       "      <td>139.840817</td>\n",
       "      <td>34.948615</td>\n",
       "    </tr>\n",
       "  </tbody>\n",
       "</table>\n",
       "</div>"
      ],
      "text/plain": [
       "     HP        MPG  VOL          SP         WT\n",
       "76  322  36.900000   50  169.598513  16.132947\n",
       "77  238  19.197888  115  150.576579  37.923113\n",
       "78  263  34.000000   50  151.598513  15.769625\n",
       "79  295  19.833733  119  167.944460  39.423099\n",
       "80  236  12.101263  107  139.840817  34.948615"
      ]
     },
     "execution_count": 4,
     "metadata": {},
     "output_type": "execute_result"
    }
   ],
   "source": [
    "df.tail()"
   ]
  },
  {
   "cell_type": "code",
   "execution_count": 5,
   "id": "34209bfa",
   "metadata": {
    "ExecuteTime": {
     "end_time": "2022-11-12T05:07:09.385930Z",
     "start_time": "2022-11-12T05:07:09.314169Z"
    }
   },
   "outputs": [
    {
     "data": {
      "text/html": [
       "<div>\n",
       "<style scoped>\n",
       "    .dataframe tbody tr th:only-of-type {\n",
       "        vertical-align: middle;\n",
       "    }\n",
       "\n",
       "    .dataframe tbody tr th {\n",
       "        vertical-align: top;\n",
       "    }\n",
       "\n",
       "    .dataframe thead th {\n",
       "        text-align: right;\n",
       "    }\n",
       "</style>\n",
       "<table border=\"1\" class=\"dataframe\">\n",
       "  <thead>\n",
       "    <tr style=\"text-align: right;\">\n",
       "      <th></th>\n",
       "      <th>HP</th>\n",
       "      <th>MPG</th>\n",
       "      <th>VOL</th>\n",
       "      <th>SP</th>\n",
       "      <th>WT</th>\n",
       "    </tr>\n",
       "  </thead>\n",
       "  <tbody>\n",
       "    <tr>\n",
       "      <th>count</th>\n",
       "      <td>81.000000</td>\n",
       "      <td>81.000000</td>\n",
       "      <td>81.000000</td>\n",
       "      <td>81.000000</td>\n",
       "      <td>81.000000</td>\n",
       "    </tr>\n",
       "    <tr>\n",
       "      <th>mean</th>\n",
       "      <td>117.469136</td>\n",
       "      <td>34.422076</td>\n",
       "      <td>98.765432</td>\n",
       "      <td>121.540272</td>\n",
       "      <td>32.412577</td>\n",
       "    </tr>\n",
       "    <tr>\n",
       "      <th>std</th>\n",
       "      <td>57.113502</td>\n",
       "      <td>9.131445</td>\n",
       "      <td>22.301497</td>\n",
       "      <td>14.181432</td>\n",
       "      <td>7.492813</td>\n",
       "    </tr>\n",
       "    <tr>\n",
       "      <th>min</th>\n",
       "      <td>49.000000</td>\n",
       "      <td>12.101263</td>\n",
       "      <td>50.000000</td>\n",
       "      <td>99.564907</td>\n",
       "      <td>15.712859</td>\n",
       "    </tr>\n",
       "    <tr>\n",
       "      <th>25%</th>\n",
       "      <td>84.000000</td>\n",
       "      <td>27.856252</td>\n",
       "      <td>89.000000</td>\n",
       "      <td>113.829145</td>\n",
       "      <td>29.591768</td>\n",
       "    </tr>\n",
       "    <tr>\n",
       "      <th>50%</th>\n",
       "      <td>100.000000</td>\n",
       "      <td>35.152727</td>\n",
       "      <td>101.000000</td>\n",
       "      <td>118.208698</td>\n",
       "      <td>32.734518</td>\n",
       "    </tr>\n",
       "    <tr>\n",
       "      <th>75%</th>\n",
       "      <td>140.000000</td>\n",
       "      <td>39.531633</td>\n",
       "      <td>113.000000</td>\n",
       "      <td>126.404312</td>\n",
       "      <td>37.392524</td>\n",
       "    </tr>\n",
       "    <tr>\n",
       "      <th>max</th>\n",
       "      <td>322.000000</td>\n",
       "      <td>53.700681</td>\n",
       "      <td>160.000000</td>\n",
       "      <td>169.598513</td>\n",
       "      <td>52.997752</td>\n",
       "    </tr>\n",
       "  </tbody>\n",
       "</table>\n",
       "</div>"
      ],
      "text/plain": [
       "               HP        MPG         VOL          SP         WT\n",
       "count   81.000000  81.000000   81.000000   81.000000  81.000000\n",
       "mean   117.469136  34.422076   98.765432  121.540272  32.412577\n",
       "std     57.113502   9.131445   22.301497   14.181432   7.492813\n",
       "min     49.000000  12.101263   50.000000   99.564907  15.712859\n",
       "25%     84.000000  27.856252   89.000000  113.829145  29.591768\n",
       "50%    100.000000  35.152727  101.000000  118.208698  32.734518\n",
       "75%    140.000000  39.531633  113.000000  126.404312  37.392524\n",
       "max    322.000000  53.700681  160.000000  169.598513  52.997752"
      ]
     },
     "execution_count": 5,
     "metadata": {},
     "output_type": "execute_result"
    }
   ],
   "source": [
    "df.describe()"
   ]
  },
  {
   "cell_type": "code",
   "execution_count": 6,
   "id": "31ce0b58",
   "metadata": {
    "ExecuteTime": {
     "end_time": "2022-11-12T05:07:25.982065Z",
     "start_time": "2022-11-12T05:07:25.965345Z"
    }
   },
   "outputs": [],
   "source": [
    "mean_mpg=df['MPG'].mean()\n",
    "std_mpg=df['MPG'].std()"
   ]
  },
  {
   "cell_type": "code",
   "execution_count": 7,
   "id": "86c4c4de",
   "metadata": {
    "ExecuteTime": {
     "end_time": "2022-11-12T05:07:40.553973Z",
     "start_time": "2022-11-12T05:07:40.527233Z"
    }
   },
   "outputs": [
    {
     "name": "stdout",
     "output_type": "stream",
     "text": [
      "Probability of MPG> 38 is: 0.3475939251582705\n"
     ]
    }
   ],
   "source": [
    "from scipy import stats\n",
    "## P(MPG>38)\n",
    "print(\"Probability of MPG> 38 is:\",1-stats.norm.cdf(38,loc=mean_mpg,scale=std_mpg))"
   ]
  },
  {
   "cell_type": "code",
   "execution_count": 8,
   "id": "393159a1",
   "metadata": {
    "ExecuteTime": {
     "end_time": "2022-11-12T05:08:08.106841Z",
     "start_time": "2022-11-12T05:08:08.090626Z"
    }
   },
   "outputs": [
    {
     "name": "stdout",
     "output_type": "stream",
     "text": [
      "probability of MPG < 40: 0.7293498762151616\n"
     ]
    }
   ],
   "source": [
    "## P(MPG<40)\n",
    "print('probability of MPG < 40:',stats.norm.cdf(40,loc=mean_mpg,scale=std_mpg))"
   ]
  },
  {
   "cell_type": "code",
   "execution_count": 9,
   "id": "5022af1a",
   "metadata": {
    "ExecuteTime": {
     "end_time": "2022-11-12T05:08:23.595245Z",
     "start_time": "2022-11-12T05:08:23.573500Z"
    }
   },
   "outputs": [
    {
     "name": "stdout",
     "output_type": "stream",
     "text": [
      "Probability of 20<MPG<50: 0.8988689169682046\n"
     ]
    }
   ],
   "source": [
    "#P(20<MPG<50)\n",
    "prob=stats.norm.cdf(50,loc=mean_mpg,scale=std_mpg)-stats.norm.cdf(20,loc=mean_mpg,scale=std_mpg)\n",
    "print(\"Probability of 20<MPG<50:\",prob)"
   ]
  },
  {
   "cell_type": "markdown",
   "id": "bfb69a84",
   "metadata": {},
   "source": [
    "# Q21(a)"
   ]
  },
  {
   "cell_type": "code",
   "execution_count": 10,
   "id": "0ab1aff0",
   "metadata": {
    "ExecuteTime": {
     "end_time": "2022-11-12T05:09:53.086026Z",
     "start_time": "2022-11-12T05:09:50.036790Z"
    }
   },
   "outputs": [],
   "source": [
    "import matplotlib.pyplot as plt\n",
    "import pandas as pd \n",
    "import seaborn as sns"
   ]
  },
  {
   "cell_type": "code",
   "execution_count": 11,
   "id": "c35f38e3",
   "metadata": {
    "ExecuteTime": {
     "end_time": "2022-11-12T05:10:05.745126Z",
     "start_time": "2022-11-12T05:10:05.725946Z"
    }
   },
   "outputs": [],
   "source": [
    "df = pd.read_csv('cars.csv')"
   ]
  },
  {
   "cell_type": "code",
   "execution_count": 12,
   "id": "37db45a3",
   "metadata": {
    "ExecuteTime": {
     "end_time": "2022-11-12T05:10:45.515439Z",
     "start_time": "2022-11-12T05:10:45.493907Z"
    }
   },
   "outputs": [],
   "source": [
    "import warnings\n",
    "warnings.filterwarnings(\"ignore\")"
   ]
  },
  {
   "cell_type": "code",
   "execution_count": 13,
   "id": "5d925992",
   "metadata": {
    "ExecuteTime": {
     "end_time": "2022-11-12T05:11:04.326379Z",
     "start_time": "2022-11-12T05:11:02.813414Z"
    }
   },
   "outputs": [
    {
     "data": {
      "image/png": "[encoded data removed]",
      "text/plain": [
       "<Figure size 432x288 with 1 Axes>"
      ]
     },
     "metadata": {
      "needs_background": "light"
     },
     "output_type": "display_data"
    }
   ],
   "source": [
    "ax = sns.distplot(df['MPG'],)\n",
    "plt.legend([\"Distribution graph of MPG\"],loc='upper left',facecolor='yellow',edgecolor='blue')\n",
    "plt.show()"
   ]
  },
  {
   "cell_type": "markdown",
   "id": "e1aa3f0e",
   "metadata": {},
   "source": [
    "# Q21(b)"
   ]
  },
  {
   "cell_type": "code",
   "execution_count": 14,
   "id": "420e80bf",
   "metadata": {
    "ExecuteTime": {
     "end_time": "2022-11-12T05:11:57.991836Z",
     "start_time": "2022-11-12T05:11:57.960641Z"
    }
   },
   "outputs": [],
   "source": [
    "import matplotlib.pyplot as plt\n",
    "import pandas as pd \n",
    "import seaborn as sns\n",
    "df = pd.read_csv('wc-at.csv')"
   ]
  },
  {
   "cell_type": "code",
   "execution_count": 15,
   "id": "17057031",
   "metadata": {
    "ExecuteTime": {
     "end_time": "2022-11-12T05:12:14.503627Z",
     "start_time": "2022-11-12T05:12:14.475649Z"
    }
   },
   "outputs": [
    {
     "data": {
      "text/html": [
       "<div>\n",
       "<style scoped>\n",
       "    .dataframe tbody tr th:only-of-type {\n",
       "        vertical-align: middle;\n",
       "    }\n",
       "\n",
       "    .dataframe tbody tr th {\n",
       "        vertical-align: top;\n",
       "    }\n",
       "\n",
       "    .dataframe thead th {\n",
       "        text-align: right;\n",
       "    }\n",
       "</style>\n",
       "<table border=\"1\" class=\"dataframe\">\n",
       "  <thead>\n",
       "    <tr style=\"text-align: right;\">\n",
       "      <th></th>\n",
       "      <th>Waist</th>\n",
       "      <th>AT</th>\n",
       "    </tr>\n",
       "  </thead>\n",
       "  <tbody>\n",
       "    <tr>\n",
       "      <th>0</th>\n",
       "      <td>74.75</td>\n",
       "      <td>25.72</td>\n",
       "    </tr>\n",
       "    <tr>\n",
       "      <th>1</th>\n",
       "      <td>72.60</td>\n",
       "      <td>25.89</td>\n",
       "    </tr>\n",
       "    <tr>\n",
       "      <th>2</th>\n",
       "      <td>81.80</td>\n",
       "      <td>42.60</td>\n",
       "    </tr>\n",
       "    <tr>\n",
       "      <th>3</th>\n",
       "      <td>83.95</td>\n",
       "      <td>42.80</td>\n",
       "    </tr>\n",
       "    <tr>\n",
       "      <th>4</th>\n",
       "      <td>74.65</td>\n",
       "      <td>29.84</td>\n",
       "    </tr>\n",
       "  </tbody>\n",
       "</table>\n",
       "</div>"
      ],
      "text/plain": [
       "   Waist     AT\n",
       "0  74.75  25.72\n",
       "1  72.60  25.89\n",
       "2  81.80  42.60\n",
       "3  83.95  42.80\n",
       "4  74.65  29.84"
      ]
     },
     "execution_count": 15,
     "metadata": {},
     "output_type": "execute_result"
    }
   ],
   "source": [
    "df.head()"
   ]
  },
  {
   "cell_type": "code",
   "execution_count": 16,
   "id": "a1a2cd21",
   "metadata": {
    "ExecuteTime": {
     "end_time": "2022-11-12T05:12:34.993629Z",
     "start_time": "2022-11-12T05:12:34.968352Z"
    }
   },
   "outputs": [],
   "source": [
    "import warnings\n",
    "warnings.filterwarnings('ignore')"
   ]
  },
  {
   "cell_type": "code",
   "execution_count": 17,
   "id": "f6453b17",
   "metadata": {
    "ExecuteTime": {
     "end_time": "2022-11-12T05:12:53.816035Z",
     "start_time": "2022-11-12T05:12:53.800878Z"
    }
   },
   "outputs": [],
   "source": [
    "import seaborn as sns"
   ]
  },
  {
   "cell_type": "code",
   "execution_count": 18,
   "id": "510e6a7d",
   "metadata": {
    "ExecuteTime": {
     "end_time": "2022-11-12T05:13:13.026808Z",
     "start_time": "2022-11-12T05:13:12.598523Z"
    }
   },
   "outputs": [
    {
     "data": {
      "image/png": "[encoded data removed]",
      "text/plain": [
       "<Figure size 432x288 with 1 Axes>"
      ]
     },
     "metadata": {
      "needs_background": "light"
     },
     "output_type": "display_data"
    }
   ],
   "source": [
    "## Checking whether Waist is normally distributed\n",
    "ax = sns.distplot(df['Waist'],)\n",
    "plt.legend([\"Distribution graph of Waist\"],loc='upper left',facecolor='yellow',edgecolor='blue')\n",
    "plt.show()"
   ]
  },
  {
   "cell_type": "markdown",
   "id": "cc955b44",
   "metadata": {},
   "source": [
    "# Q22"
   ]
  },
  {
   "cell_type": "code",
   "execution_count": 19,
   "id": "6930bc1d",
   "metadata": {
    "ExecuteTime": {
     "end_time": "2022-11-12T05:14:04.001962Z",
     "start_time": "2022-11-12T05:14:03.987612Z"
    }
   },
   "outputs": [],
   "source": [
    "from scipy import stats"
   ]
  },
  {
   "cell_type": "code",
   "execution_count": 20,
   "id": "be33c5c0",
   "metadata": {
    "ExecuteTime": {
     "end_time": "2022-11-12T05:14:20.497506Z",
     "start_time": "2022-11-12T05:14:20.464572Z"
    }
   },
   "outputs": [
    {
     "name": "stdout",
     "output_type": "stream",
     "text": [
      "Z-score of 90% C.I is: 1.6448536269514722\n",
      "Z-score of 94% C.I is: 1.8807936081512509\n",
      "Z-score of 60% C.I is: 0.8416212335729143\n"
     ]
    }
   ],
   "source": [
    "z_90=stats.norm.ppf(0.95,loc=0,scale=1)\n",
    "z_94=stats.norm.ppf(0.97,loc=0,scale=1)\n",
    "z_60=stats.norm.ppf(0.80,loc=0,scale=1)\n",
    "print(\"Z-score of 90% C.I is:\",z_90)\n",
    "print(\"Z-score of 94% C.I is:\",z_94)\n",
    "print(\"Z-score of 60% C.I is:\",z_60)"
   ]
  },
  {
   "cell_type": "markdown",
   "id": "23c8eec2",
   "metadata": {},
   "source": [
    "# Q23"
   ]
  },
  {
   "cell_type": "code",
   "execution_count": 21,
   "id": "d262b2d5",
   "metadata": {
    "ExecuteTime": {
     "end_time": "2022-11-12T05:15:27.630152Z",
     "start_time": "2022-11-12T05:15:27.621595Z"
    }
   },
   "outputs": [],
   "source": [
    "from scipy import stats"
   ]
  },
  {
   "cell_type": "code",
   "execution_count": 22,
   "id": "2e30f5a4",
   "metadata": {
    "ExecuteTime": {
     "end_time": "2022-11-12T05:15:45.066242Z",
     "start_time": "2022-11-12T05:15:45.041832Z"
    }
   },
   "outputs": [
    {
     "name": "stdout",
     "output_type": "stream",
     "text": [
      "T-score of 95% C.I is: 2.0638985616280205\n",
      "T-score of 96% C.I is: 2.1715446760080677\n",
      "T-score of 99% C.I is: 2.796939504772804\n"
     ]
    }
   ],
   "source": [
    "t_95=stats.t.ppf(0.975,df=24)\n",
    "t_96=stats.t.ppf(0.98,df=24)\n",
    "t_99=stats.t.ppf(0.995,df=24)\n",
    "print(\"T-score of 95% C.I is:\",t_95)\n",
    "print(\"T-score of 96% C.I is:\",t_96)\n",
    "print(\"T-score of 99% C.I is:\",t_99)"
   ]
  },
  {
   "cell_type": "markdown",
   "id": "ac4d3861",
   "metadata": {},
   "source": [
    "# Q24"
   ]
  },
  {
   "cell_type": "code",
   "execution_count": 23,
   "id": "626d63fa",
   "metadata": {
    "ExecuteTime": {
     "end_time": "2022-11-12T05:17:04.989019Z",
     "start_time": "2022-11-12T05:17:04.980655Z"
    }
   },
   "outputs": [],
   "source": [
    "import numpy as np\n",
    "from scipy import stats"
   ]
  },
  {
   "cell_type": "code",
   "execution_count": 24,
   "id": "ef753e94",
   "metadata": {
    "ExecuteTime": {
     "end_time": "2022-11-12T05:17:24.797604Z",
     "start_time": "2022-11-12T05:17:24.769119Z"
    }
   },
   "outputs": [
    {
     "name": "stdout",
     "output_type": "stream",
     "text": [
      "T-score is: -0.4714045207910317\n",
      "Corresponding probability is: 0.32167253567098364\n"
     ]
    }
   ],
   "source": [
    "pop_mean=270\n",
    "n=18\n",
    "samp_mean=260\n",
    "samp_std=90\n",
    "t_value=(samp_mean-pop_mean)/(samp_std/np.sqrt(n))\n",
    "prob=stats.t.cdf(t_value,df=17)\n",
    "print(\"T-score is:\",t_value)\n",
    "print(\"Corresponding probability is:\",prob)"
   ]
  },
  {
   "cell_type": "code",
   "execution_count": null,
   "id": "a4a37045",
   "metadata": {},
   "outputs": [],
   "source": []
  }
 ],
 "metadata": {
  "gist": {
   "data": {
    "description": "ASSIGNMENT 1.ipynb",
    "public": true
   },
   "id": ""
  },
  "kernelspec": {
   "display_name": "Python 3 (ipykernel)",
   "language": "python",
   "name": "python3"
  },
  "language_info": {
   "codemirror_mode": {
    "name": "ipython",
    "version": 3
   },
   "file_extension": ".py",
   "mimetype": "text/x-python",
   "name": "python",
   "nbconvert_exporter": "python",
   "pygments_lexer": "ipython3",
   "version": "3.9.12"
  }
 },
 "nbformat": 4,
 "nbformat_minor": 5
}
